{
  "nbformat": 4,
  "nbformat_minor": 0,
  "metadata": {
    "colab": {
      "name": "ITSM.ipynb",
      "provenance": [],
      "collapsed_sections": [],
      "include_colab_link": true
    },
    "kernelspec": {
      "name": "python3",
      "display_name": "Python 3"
    }
  },
  "cells": [
    {
      "cell_type": "markdown",
      "metadata": {
        "id": "view-in-github",
        "colab_type": "text"
      },
      "source": [
        "<a href=\"https://colab.research.google.com/github/shakeelpatel/ML_Project/blob/master/ITSM.ipynb\" target=\"_parent\"><img src=\"https://colab.research.google.com/assets/colab-badge.svg\" alt=\"Open In Colab\"/></a>"
      ]
    },
    {
      "cell_type": "code",
      "metadata": {
        "id": "kK4cEPonA47E",
        "colab_type": "code",
        "outputId": "2ebf6d6e-4f15-4b88-fab4-89ece69bd886",
        "colab": {
          "base_uri": "https://localhost:8080/",
          "height": 122
        }
      },
      "source": [
        "!pip install pymysql\n"
      ],
      "execution_count": 0,
      "outputs": [
        {
          "output_type": "stream",
          "text": [
            "Collecting pymysql\n",
            "\u001b[?25l  Downloading https://files.pythonhosted.org/packages/ed/39/15045ae46f2a123019aa968dfcba0396c161c20f855f11dea6796bcaae95/PyMySQL-0.9.3-py2.py3-none-any.whl (47kB)\n",
            "\r\u001b[K     |██████▉                         | 10kB 17.1MB/s eta 0:00:01\r\u001b[K     |█████████████▊                  | 20kB 845kB/s eta 0:00:01\r\u001b[K     |████████████████████▋           | 30kB 1.2MB/s eta 0:00:01\r\u001b[K     |███████████████████████████▌    | 40kB 832kB/s eta 0:00:01\r\u001b[K     |████████████████████████████████| 51kB 903kB/s \n",
            "\u001b[?25hInstalling collected packages: pymysql\n",
            "Successfully installed pymysql-0.9.3\n"
          ],
          "name": "stdout"
        }
      ]
    },
    {
      "cell_type": "code",
      "metadata": {
        "id": "Ia6sAis-5W8l",
        "colab_type": "code",
        "colab": {}
      },
      "source": [
        "import pandas as pd\n",
        "import seaborn as sns\n",
        "import matplotlib.pyplot as plt\n",
        "%matplotlib inline\n",
        "from sqlalchemy import create_engine"
      ],
      "execution_count": 0,
      "outputs": []
    },
    {
      "cell_type": "code",
      "metadata": {
        "id": "WHn67x0qA_N7",
        "colab_type": "code",
        "colab": {}
      },
      "source": [
        "db_host = '18.136.56.185'\n",
        "dp_port = '3306'\n",
        "username = 'dm_team'\n",
        "user_pass = 'dm_team123#'\n",
        "# db_name = 'project_telecom'\n",
        "\n",
        "\n",
        "# /* Host: 18.136.56.185\n",
        "# Port: 3306\n",
        "# Username : dm_team\n",
        "# Password: dm_team123#\n",
        "# */"
      ],
      "execution_count": 0,
      "outputs": []
    },
    {
      "cell_type": "code",
      "metadata": {
        "id": "bKRXQvqfBqb4",
        "colab_type": "code",
        "colab": {}
      },
      "source": [
        "conn = create_engine('mysql+pymysql://'+username+':'+user_pass+'@'+db_host,echo=True)"
      ],
      "execution_count": 0,
      "outputs": []
    },
    {
      "cell_type": "code",
      "metadata": {
        "id": "imEf0pmuB05C",
        "colab_type": "code",
        "outputId": "f6d23e58-7def-4ea5-c310-e64f81cf6e0d",
        "colab": {
          "base_uri": "https://localhost:8080/",
          "height": 34
        }
      },
      "source": [
        "import sqlalchemy\n",
        "sqlalchemy.__version__"
      ],
      "execution_count": 0,
      "outputs": [
        {
          "output_type": "execute_result",
          "data": {
            "text/plain": [
              "'1.3.12'"
            ]
          },
          "metadata": {
            "tags": []
          },
          "execution_count": 9
        }
      ]
    },
    {
      "cell_type": "code",
      "metadata": {
        "id": "a0uUq0UICfhj",
        "colab_type": "code",
        "colab": {}
      },
      "source": [
        "db= conn.connect()"
      ],
      "execution_count": 0,
      "outputs": []
    },
    {
      "cell_type": "code",
      "metadata": {
        "id": "fZSFHx35DLlW",
        "colab_type": "code",
        "outputId": "8ccf2eff-9463-4306-801c-0a411c28cccf",
        "colab": {
          "base_uri": "https://localhost:8080/",
          "height": 51
        }
      },
      "source": [
        "from sqlalchemy import inspect\n",
        "inspector = inspect(conn)\n",
        "schemas = inspector.get_schema_names()\n"
      ],
      "execution_count": 0,
      "outputs": [
        {
          "output_type": "stream",
          "text": [
            "2019-12-21 10:45:40,181 INFO sqlalchemy.engine.base.Engine SHOW schemas\n",
            "2019-12-21 10:45:40,182 INFO sqlalchemy.engine.base.Engine {}\n"
          ],
          "name": "stdout"
        }
      ]
    },
    {
      "cell_type": "code",
      "metadata": {
        "id": "FAaQH5g3D_V6",
        "colab_type": "code",
        "outputId": "134e5d8a-0ffb-4efa-de9e-acd62ca8c216",
        "colab": {
          "base_uri": "https://localhost:8080/",
          "height": 68
        }
      },
      "source": [
        "for schema in schemas:\n",
        "    print(\"schema: %s\" % schema)\n",
        "    for table_name in inspector.get_table_names(schema=schema):\n",
        "        print(table_name)"
      ],
      "execution_count": 0,
      "outputs": [
        {
          "output_type": "stream",
          "text": [
            "schema: information_schema\n",
            "schema: project_itsm\n",
            "dataset_list\n"
          ],
          "name": "stdout"
        }
      ]
    },
    {
      "cell_type": "code",
      "metadata": {
        "id": "pEOQ-7sVEBds",
        "colab_type": "code",
        "outputId": "9adab840-f38f-462f-e51d-f4ccb7912007",
        "colab": {
          "base_uri": "https://localhost:8080/",
          "height": 85
        }
      },
      "source": [
        "data = pd.DataFrame()\n",
        "db.execute('USE project_itsm')\n",
        "data = db.execute('SELECT * FROM dataset_list')"
      ],
      "execution_count": 0,
      "outputs": [
        {
          "output_type": "stream",
          "text": [
            "2019-12-21 11:04:43,445 INFO sqlalchemy.engine.base.Engine USE project_itsm\n",
            "2019-12-21 11:04:43,448 INFO sqlalchemy.engine.base.Engine {}\n",
            "2019-12-21 11:04:43,501 INFO sqlalchemy.engine.base.Engine SELECT * FROM dataset_list\n",
            "2019-12-21 11:04:43,502 INFO sqlalchemy.engine.base.Engine {}\n"
          ],
          "name": "stdout"
        }
      ]
    },
    {
      "cell_type": "code",
      "metadata": {
        "id": "W4sx7FE0IZZc",
        "colab_type": "code",
        "outputId": "c7af7bcc-3825-45f5-88fb-292739fcb078",
        "colab": {
          "base_uri": "https://localhost:8080/",
          "height": 51
        }
      },
      "source": [
        "data = pd.read_sql_query('SELECT * FROM dataset_list',db)"
      ],
      "execution_count": 0,
      "outputs": [
        {
          "output_type": "stream",
          "text": [
            "2019-12-21 11:06:31,365 INFO sqlalchemy.engine.base.Engine SELECT * FROM dataset_list\n",
            "2019-12-21 11:06:31,368 INFO sqlalchemy.engine.base.Engine {}\n"
          ],
          "name": "stdout"
        }
      ]
    },
    {
      "cell_type": "code",
      "metadata": {
        "id": "sfFZ99EOIbZL",
        "colab_type": "code",
        "outputId": "84cfa028-60f1-4322-ec15-ac9bb022312d",
        "colab": {
          "base_uri": "https://localhost:8080/",
          "height": 394
        }
      },
      "source": [
        "data.head()"
      ],
      "execution_count": 0,
      "outputs": [
        {
          "output_type": "execute_result",
          "data": {
            "text/html": [
              "<div>\n",
              "<style scoped>\n",
              "    .dataframe tbody tr th:only-of-type {\n",
              "        vertical-align: middle;\n",
              "    }\n",
              "\n",
              "    .dataframe tbody tr th {\n",
              "        vertical-align: top;\n",
              "    }\n",
              "\n",
              "    .dataframe thead th {\n",
              "        text-align: right;\n",
              "    }\n",
              "</style>\n",
              "<table border=\"1\" class=\"dataframe\">\n",
              "  <thead>\n",
              "    <tr style=\"text-align: right;\">\n",
              "      <th></th>\n",
              "      <th>CI_Name</th>\n",
              "      <th>CI_Cat</th>\n",
              "      <th>CI_Subcat</th>\n",
              "      <th>WBS</th>\n",
              "      <th>Incident_ID</th>\n",
              "      <th>Status</th>\n",
              "      <th>Impact</th>\n",
              "      <th>Urgency</th>\n",
              "      <th>Priority</th>\n",
              "      <th>number_cnt</th>\n",
              "      <th>Category</th>\n",
              "      <th>KB_number</th>\n",
              "      <th>Alert_Status</th>\n",
              "      <th>No_of_Reassignments</th>\n",
              "      <th>Open_Time</th>\n",
              "      <th>Reopen_Time</th>\n",
              "      <th>Resolved_Time</th>\n",
              "      <th>Close_Time</th>\n",
              "      <th>Handle_Time_hrs</th>\n",
              "      <th>Closure_Code</th>\n",
              "      <th>No_of_Related_Interactions</th>\n",
              "      <th>Related_Interaction</th>\n",
              "      <th>No_of_Related_Incidents</th>\n",
              "      <th>No_of_Related_Changes</th>\n",
              "      <th>Related_Change</th>\n",
              "    </tr>\n",
              "  </thead>\n",
              "  <tbody>\n",
              "    <tr>\n",
              "      <th>0</th>\n",
              "      <td>SUB000508</td>\n",
              "      <td>subapplication</td>\n",
              "      <td>Web Based Application</td>\n",
              "      <td>WBS000162</td>\n",
              "      <td>IM0000004</td>\n",
              "      <td>Closed</td>\n",
              "      <td>4</td>\n",
              "      <td>4</td>\n",
              "      <td>4</td>\n",
              "      <td>0.601292279</td>\n",
              "      <td>incident</td>\n",
              "      <td>KM0000553</td>\n",
              "      <td>closed</td>\n",
              "      <td>26</td>\n",
              "      <td>05-02-2012 13:32</td>\n",
              "      <td></td>\n",
              "      <td>04-11-2013 13:50</td>\n",
              "      <td>04-11-2013 13:51</td>\n",
              "      <td>3,87,16,91,111</td>\n",
              "      <td>Other</td>\n",
              "      <td>1</td>\n",
              "      <td>SD0000007</td>\n",
              "      <td>2</td>\n",
              "      <td></td>\n",
              "      <td></td>\n",
              "    </tr>\n",
              "    <tr>\n",
              "      <th>1</th>\n",
              "      <td>WBA000124</td>\n",
              "      <td>application</td>\n",
              "      <td>Web Based Application</td>\n",
              "      <td>WBS000088</td>\n",
              "      <td>IM0000005</td>\n",
              "      <td>Closed</td>\n",
              "      <td>3</td>\n",
              "      <td>3</td>\n",
              "      <td>3</td>\n",
              "      <td>0.415049969</td>\n",
              "      <td>incident</td>\n",
              "      <td>KM0000611</td>\n",
              "      <td>closed</td>\n",
              "      <td>33</td>\n",
              "      <td>12-03-2012 15:44</td>\n",
              "      <td>02-12-2013 12:31</td>\n",
              "      <td>02-12-2013 12:36</td>\n",
              "      <td>02-12-2013 12:36</td>\n",
              "      <td>4,35,47,86,389</td>\n",
              "      <td>Software</td>\n",
              "      <td>1</td>\n",
              "      <td>SD0000011</td>\n",
              "      <td>1</td>\n",
              "      <td></td>\n",
              "      <td></td>\n",
              "    </tr>\n",
              "    <tr>\n",
              "      <th>2</th>\n",
              "      <td>DTA000024</td>\n",
              "      <td>application</td>\n",
              "      <td>Desktop Application</td>\n",
              "      <td>WBS000092</td>\n",
              "      <td>IM0000006</td>\n",
              "      <td>Closed</td>\n",
              "      <td>NS</td>\n",
              "      <td>3</td>\n",
              "      <td>NA</td>\n",
              "      <td>0.517551335</td>\n",
              "      <td>request for information</td>\n",
              "      <td>KM0000339</td>\n",
              "      <td>closed</td>\n",
              "      <td>3</td>\n",
              "      <td>29-03-2012 12:36</td>\n",
              "      <td></td>\n",
              "      <td>13-01-2014 15:12</td>\n",
              "      <td>13-01-2014 15:13</td>\n",
              "      <td>4,84,31,19,444</td>\n",
              "      <td>No error - works as designed</td>\n",
              "      <td>1</td>\n",
              "      <td>SD0000017</td>\n",
              "      <td></td>\n",
              "      <td></td>\n",
              "      <td></td>\n",
              "    </tr>\n",
              "    <tr>\n",
              "      <th>3</th>\n",
              "      <td>WBA000124</td>\n",
              "      <td>application</td>\n",
              "      <td>Web Based Application</td>\n",
              "      <td>WBS000088</td>\n",
              "      <td>IM0000011</td>\n",
              "      <td>Closed</td>\n",
              "      <td>4</td>\n",
              "      <td>4</td>\n",
              "      <td>4</td>\n",
              "      <td>0.642927218</td>\n",
              "      <td>incident</td>\n",
              "      <td>KM0000611</td>\n",
              "      <td>closed</td>\n",
              "      <td>13</td>\n",
              "      <td>17-07-2012 11:49</td>\n",
              "      <td></td>\n",
              "      <td>14-11-2013 09:31</td>\n",
              "      <td>14-11-2013 09:31</td>\n",
              "      <td>4,32,18,33,333</td>\n",
              "      <td>Operator error</td>\n",
              "      <td>1</td>\n",
              "      <td>SD0000025</td>\n",
              "      <td></td>\n",
              "      <td></td>\n",
              "      <td></td>\n",
              "    </tr>\n",
              "    <tr>\n",
              "      <th>4</th>\n",
              "      <td>WBA000124</td>\n",
              "      <td>application</td>\n",
              "      <td>Web Based Application</td>\n",
              "      <td>WBS000088</td>\n",
              "      <td>IM0000012</td>\n",
              "      <td>Closed</td>\n",
              "      <td>4</td>\n",
              "      <td>4</td>\n",
              "      <td>4</td>\n",
              "      <td>0.345258343</td>\n",
              "      <td>incident</td>\n",
              "      <td>KM0000611</td>\n",
              "      <td>closed</td>\n",
              "      <td>2</td>\n",
              "      <td>10-08-2012 11:01</td>\n",
              "      <td></td>\n",
              "      <td>08-11-2013 13:55</td>\n",
              "      <td>08-11-2013 13:55</td>\n",
              "      <td>3,38,39,03,333</td>\n",
              "      <td>Other</td>\n",
              "      <td>1</td>\n",
              "      <td>SD0000029</td>\n",
              "      <td></td>\n",
              "      <td></td>\n",
              "      <td></td>\n",
              "    </tr>\n",
              "  </tbody>\n",
              "</table>\n",
              "</div>"
            ],
            "text/plain": [
              "     CI_Name          CI_Cat  ... No_of_Related_Changes Related_Change\n",
              "0  SUB000508  subapplication  ...                                     \n",
              "1  WBA000124     application  ...                                     \n",
              "2  DTA000024     application  ...                                     \n",
              "3  WBA000124     application  ...                                     \n",
              "4  WBA000124     application  ...                                     \n",
              "\n",
              "[5 rows x 25 columns]"
            ]
          },
          "metadata": {
            "tags": []
          },
          "execution_count": 34
        }
      ]
    },
    {
      "cell_type": "code",
      "metadata": {
        "id": "_udE49OyIz_b",
        "colab_type": "code",
        "outputId": "caa505b6-d1b3-4d8b-b7e2-a553b99ebc54",
        "colab": {
          "base_uri": "https://localhost:8080/",
          "height": 425
        }
      },
      "source": [
        "data.to_excel('excel_writer')"
      ],
      "execution_count": 0,
      "outputs": [
        {
          "output_type": "error",
          "ename": "ValueError",
          "evalue": "ignored",
          "traceback": [
            "\u001b[0;31m---------------------------------------------------------------------------\u001b[0m",
            "\u001b[0;31mOptionError\u001b[0m                               Traceback (most recent call last)",
            "\u001b[0;32m/usr/local/lib/python3.6/dist-packages/pandas/io/excel/_base.py\u001b[0m in \u001b[0;36m__new__\u001b[0;34m(cls, path, engine, **kwargs)\u001b[0m\n\u001b[1;32m    629\u001b[0m                 \u001b[0;32mtry\u001b[0m\u001b[0;34m:\u001b[0m\u001b[0;34m\u001b[0m\u001b[0;34m\u001b[0m\u001b[0m\n\u001b[0;32m--> 630\u001b[0;31m                     \u001b[0mengine\u001b[0m \u001b[0;34m=\u001b[0m \u001b[0mconfig\u001b[0m\u001b[0;34m.\u001b[0m\u001b[0mget_option\u001b[0m\u001b[0;34m(\u001b[0m\u001b[0;34m\"io.excel.{ext}.writer\"\u001b[0m\u001b[0;34m.\u001b[0m\u001b[0mformat\u001b[0m\u001b[0;34m(\u001b[0m\u001b[0mext\u001b[0m\u001b[0;34m=\u001b[0m\u001b[0mext\u001b[0m\u001b[0;34m)\u001b[0m\u001b[0;34m)\u001b[0m\u001b[0;34m\u001b[0m\u001b[0;34m\u001b[0m\u001b[0m\n\u001b[0m\u001b[1;32m    631\u001b[0m                     \u001b[0;32mif\u001b[0m \u001b[0mengine\u001b[0m \u001b[0;34m==\u001b[0m \u001b[0;34m\"auto\"\u001b[0m\u001b[0;34m:\u001b[0m\u001b[0;34m\u001b[0m\u001b[0;34m\u001b[0m\u001b[0m\n",
            "\u001b[0;32m/usr/local/lib/python3.6/dist-packages/pandas/_config/config.py\u001b[0m in \u001b[0;36m__call__\u001b[0;34m(self, *args, **kwds)\u001b[0m\n\u001b[1;32m    232\u001b[0m     \u001b[0;32mdef\u001b[0m \u001b[0m__call__\u001b[0m\u001b[0;34m(\u001b[0m\u001b[0mself\u001b[0m\u001b[0;34m,\u001b[0m \u001b[0;34m*\u001b[0m\u001b[0margs\u001b[0m\u001b[0;34m,\u001b[0m \u001b[0;34m**\u001b[0m\u001b[0mkwds\u001b[0m\u001b[0;34m)\u001b[0m\u001b[0;34m:\u001b[0m\u001b[0;34m\u001b[0m\u001b[0;34m\u001b[0m\u001b[0m\n\u001b[0;32m--> 233\u001b[0;31m         \u001b[0;32mreturn\u001b[0m \u001b[0mself\u001b[0m\u001b[0;34m.\u001b[0m\u001b[0m__func__\u001b[0m\u001b[0;34m(\u001b[0m\u001b[0;34m*\u001b[0m\u001b[0margs\u001b[0m\u001b[0;34m,\u001b[0m \u001b[0;34m**\u001b[0m\u001b[0mkwds\u001b[0m\u001b[0;34m)\u001b[0m\u001b[0;34m\u001b[0m\u001b[0;34m\u001b[0m\u001b[0m\n\u001b[0m\u001b[1;32m    234\u001b[0m \u001b[0;34m\u001b[0m\u001b[0m\n",
            "\u001b[0;32m/usr/local/lib/python3.6/dist-packages/pandas/_config/config.py\u001b[0m in \u001b[0;36m_get_option\u001b[0;34m(pat, silent)\u001b[0m\n\u001b[1;32m    101\u001b[0m \u001b[0;32mdef\u001b[0m \u001b[0m_get_option\u001b[0m\u001b[0;34m(\u001b[0m\u001b[0mpat\u001b[0m\u001b[0;34m,\u001b[0m \u001b[0msilent\u001b[0m\u001b[0;34m=\u001b[0m\u001b[0;32mFalse\u001b[0m\u001b[0;34m)\u001b[0m\u001b[0;34m:\u001b[0m\u001b[0;34m\u001b[0m\u001b[0;34m\u001b[0m\u001b[0m\n\u001b[0;32m--> 102\u001b[0;31m     \u001b[0mkey\u001b[0m \u001b[0;34m=\u001b[0m \u001b[0m_get_single_key\u001b[0m\u001b[0;34m(\u001b[0m\u001b[0mpat\u001b[0m\u001b[0;34m,\u001b[0m \u001b[0msilent\u001b[0m\u001b[0;34m)\u001b[0m\u001b[0;34m\u001b[0m\u001b[0;34m\u001b[0m\u001b[0m\n\u001b[0m\u001b[1;32m    103\u001b[0m \u001b[0;34m\u001b[0m\u001b[0m\n",
            "\u001b[0;32m/usr/local/lib/python3.6/dist-packages/pandas/_config/config.py\u001b[0m in \u001b[0;36m_get_single_key\u001b[0;34m(pat, silent)\u001b[0m\n\u001b[1;32m     87\u001b[0m             \u001b[0m_warn_if_deprecated\u001b[0m\u001b[0;34m(\u001b[0m\u001b[0mpat\u001b[0m\u001b[0;34m)\u001b[0m\u001b[0;34m\u001b[0m\u001b[0;34m\u001b[0m\u001b[0m\n\u001b[0;32m---> 88\u001b[0;31m         \u001b[0;32mraise\u001b[0m \u001b[0mOptionError\u001b[0m\u001b[0;34m(\u001b[0m\u001b[0;34m\"No such keys(s): {pat!r}\"\u001b[0m\u001b[0;34m.\u001b[0m\u001b[0mformat\u001b[0m\u001b[0;34m(\u001b[0m\u001b[0mpat\u001b[0m\u001b[0;34m=\u001b[0m\u001b[0mpat\u001b[0m\u001b[0;34m)\u001b[0m\u001b[0;34m)\u001b[0m\u001b[0;34m\u001b[0m\u001b[0;34m\u001b[0m\u001b[0m\n\u001b[0m\u001b[1;32m     89\u001b[0m     \u001b[0;32mif\u001b[0m \u001b[0mlen\u001b[0m\u001b[0;34m(\u001b[0m\u001b[0mkeys\u001b[0m\u001b[0;34m)\u001b[0m \u001b[0;34m>\u001b[0m \u001b[0;36m1\u001b[0m\u001b[0;34m:\u001b[0m\u001b[0;34m\u001b[0m\u001b[0;34m\u001b[0m\u001b[0m\n",
            "\u001b[0;31mOptionError\u001b[0m: \"No such keys(s): 'io.excel..writer'\"",
            "\nDuring handling of the above exception, another exception occurred:\n",
            "\u001b[0;31mValueError\u001b[0m                                Traceback (most recent call last)",
            "\u001b[0;32m<ipython-input-37-23e2fe5b1cf6>\u001b[0m in \u001b[0;36m<module>\u001b[0;34m()\u001b[0m\n\u001b[0;32m----> 1\u001b[0;31m \u001b[0mdata\u001b[0m\u001b[0;34m.\u001b[0m\u001b[0mto_excel\u001b[0m\u001b[0;34m(\u001b[0m\u001b[0;34m'excel_writer'\u001b[0m\u001b[0;34m)\u001b[0m\u001b[0;34m\u001b[0m\u001b[0;34m\u001b[0m\u001b[0m\n\u001b[0m",
            "\u001b[0;32m/usr/local/lib/python3.6/dist-packages/pandas/core/generic.py\u001b[0m in \u001b[0;36mto_excel\u001b[0;34m(self, excel_writer, sheet_name, na_rep, float_format, columns, header, index, index_label, startrow, startcol, engine, merge_cells, encoding, inf_rep, verbose, freeze_panes)\u001b[0m\n\u001b[1;32m   2254\u001b[0m             \u001b[0mstartcol\u001b[0m\u001b[0;34m=\u001b[0m\u001b[0mstartcol\u001b[0m\u001b[0;34m,\u001b[0m\u001b[0;34m\u001b[0m\u001b[0;34m\u001b[0m\u001b[0m\n\u001b[1;32m   2255\u001b[0m             \u001b[0mfreeze_panes\u001b[0m\u001b[0;34m=\u001b[0m\u001b[0mfreeze_panes\u001b[0m\u001b[0;34m,\u001b[0m\u001b[0;34m\u001b[0m\u001b[0;34m\u001b[0m\u001b[0m\n\u001b[0;32m-> 2256\u001b[0;31m             \u001b[0mengine\u001b[0m\u001b[0;34m=\u001b[0m\u001b[0mengine\u001b[0m\u001b[0;34m,\u001b[0m\u001b[0;34m\u001b[0m\u001b[0;34m\u001b[0m\u001b[0m\n\u001b[0m\u001b[1;32m   2257\u001b[0m         )\n\u001b[1;32m   2258\u001b[0m \u001b[0;34m\u001b[0m\u001b[0m\n",
            "\u001b[0;32m/usr/local/lib/python3.6/dist-packages/pandas/io/formats/excel.py\u001b[0m in \u001b[0;36mwrite\u001b[0;34m(self, writer, sheet_name, startrow, startcol, freeze_panes, engine)\u001b[0m\n\u001b[1;32m    728\u001b[0m             \u001b[0mneed_save\u001b[0m \u001b[0;34m=\u001b[0m \u001b[0;32mFalse\u001b[0m\u001b[0;34m\u001b[0m\u001b[0;34m\u001b[0m\u001b[0m\n\u001b[1;32m    729\u001b[0m         \u001b[0;32melse\u001b[0m\u001b[0;34m:\u001b[0m\u001b[0;34m\u001b[0m\u001b[0;34m\u001b[0m\u001b[0m\n\u001b[0;32m--> 730\u001b[0;31m             \u001b[0mwriter\u001b[0m \u001b[0;34m=\u001b[0m \u001b[0mExcelWriter\u001b[0m\u001b[0;34m(\u001b[0m\u001b[0m_stringify_path\u001b[0m\u001b[0;34m(\u001b[0m\u001b[0mwriter\u001b[0m\u001b[0;34m)\u001b[0m\u001b[0;34m,\u001b[0m \u001b[0mengine\u001b[0m\u001b[0;34m=\u001b[0m\u001b[0mengine\u001b[0m\u001b[0;34m)\u001b[0m\u001b[0;34m\u001b[0m\u001b[0;34m\u001b[0m\u001b[0m\n\u001b[0m\u001b[1;32m    731\u001b[0m             \u001b[0mneed_save\u001b[0m \u001b[0;34m=\u001b[0m \u001b[0;32mTrue\u001b[0m\u001b[0;34m\u001b[0m\u001b[0;34m\u001b[0m\u001b[0m\n\u001b[1;32m    732\u001b[0m \u001b[0;34m\u001b[0m\u001b[0m\n",
            "\u001b[0;32m/usr/local/lib/python3.6/dist-packages/pandas/io/excel/_base.py\u001b[0m in \u001b[0;36m__new__\u001b[0;34m(cls, path, engine, **kwargs)\u001b[0m\n\u001b[1;32m    632\u001b[0m                         \u001b[0mengine\u001b[0m \u001b[0;34m=\u001b[0m \u001b[0m_get_default_writer\u001b[0m\u001b[0;34m(\u001b[0m\u001b[0mext\u001b[0m\u001b[0;34m)\u001b[0m\u001b[0;34m\u001b[0m\u001b[0;34m\u001b[0m\u001b[0m\n\u001b[1;32m    633\u001b[0m                 \u001b[0;32mexcept\u001b[0m \u001b[0mKeyError\u001b[0m\u001b[0;34m:\u001b[0m\u001b[0;34m\u001b[0m\u001b[0;34m\u001b[0m\u001b[0m\n\u001b[0;32m--> 634\u001b[0;31m                     \u001b[0;32mraise\u001b[0m \u001b[0mValueError\u001b[0m\u001b[0;34m(\u001b[0m\u001b[0;34m\"No engine for filetype: '{ext}'\"\u001b[0m\u001b[0;34m.\u001b[0m\u001b[0mformat\u001b[0m\u001b[0;34m(\u001b[0m\u001b[0mext\u001b[0m\u001b[0;34m=\u001b[0m\u001b[0mext\u001b[0m\u001b[0;34m)\u001b[0m\u001b[0;34m)\u001b[0m\u001b[0;34m\u001b[0m\u001b[0;34m\u001b[0m\u001b[0m\n\u001b[0m\u001b[1;32m    635\u001b[0m             \u001b[0mcls\u001b[0m \u001b[0;34m=\u001b[0m \u001b[0mget_writer\u001b[0m\u001b[0;34m(\u001b[0m\u001b[0mengine\u001b[0m\u001b[0;34m)\u001b[0m\u001b[0;34m\u001b[0m\u001b[0;34m\u001b[0m\u001b[0m\n\u001b[1;32m    636\u001b[0m \u001b[0;34m\u001b[0m\u001b[0m\n",
            "\u001b[0;31mValueError\u001b[0m: No engine for filetype: ''"
          ]
        }
      ]
    },
    {
      "cell_type": "code",
      "metadata": {
        "id": "mq4R2nq1J0IN",
        "colab_type": "code",
        "colab": {}
      },
      "source": [
        ""
      ],
      "execution_count": 0,
      "outputs": []
    }
  ]
}