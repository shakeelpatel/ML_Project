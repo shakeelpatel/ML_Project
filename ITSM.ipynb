{
  "nbformat": 4,
  "nbformat_minor": 0,
  "metadata": {
    "colab": {
      "name": "ITSM.ipynb",
      "provenance": [],
      "collapsed_sections": [],
      "include_colab_link": true
    },
    "kernelspec": {
      "name": "python3",
      "display_name": "Python 3"
    }
  },
  "cells": [
    {
      "cell_type": "markdown",
      "metadata": {
        "id": "view-in-github",
        "colab_type": "text"
      },
      "source": [
        "<a href=\"https://colab.research.google.com/github/shakeelpatel/ML_Project/blob/master/ITSM.ipynb\" target=\"_parent\"><img src=\"https://colab.research.google.com/assets/colab-badge.svg\" alt=\"Open In Colab\"/></a>"
      ]
    },
    {
      "cell_type": "code",
      "metadata": {
        "id": "kK4cEPonA47E",
        "colab_type": "code",
        "outputId": "1c20dad4-0f65-409d-a709-94a30cb2d35c",
        "colab": {
          "base_uri": "https://localhost:8080/",
          "height": 128
        }
      },
      "source": [
        "!pip install pymysql\n"
      ],
      "execution_count": 5,
      "outputs": [
        {
          "output_type": "stream",
          "text": [
            "Collecting pymysql\n",
            "\u001b[?25l  Downloading https://files.pythonhosted.org/packages/ed/39/15045ae46f2a123019aa968dfcba0396c161c20f855f11dea6796bcaae95/PyMySQL-0.9.3-py2.py3-none-any.whl (47kB)\n",
            "\r\u001b[K     |██████▉                         | 10kB 16.2MB/s eta 0:00:01\r\u001b[K     |█████████████▊                  | 20kB 1.8MB/s eta 0:00:01\r\u001b[K     |████████████████████▋           | 30kB 2.6MB/s eta 0:00:01\r\u001b[K     |███████████████████████████▌    | 40kB 1.7MB/s eta 0:00:01\r\u001b[K     |████████████████████████████████| 51kB 1.7MB/s \n",
            "\u001b[?25hInstalling collected packages: pymysql\n",
            "Successfully installed pymysql-0.9.3\n"
          ],
          "name": "stdout"
        }
      ]
    },
    {
      "cell_type": "code",
      "metadata": {
        "id": "Ia6sAis-5W8l",
        "colab_type": "code",
        "colab": {}
      },
      "source": [
        "import pandas as pd\n",
        "import seaborn as sns\n",
        "import matplotlib.pyplot as plt\n",
        "%matplotlib inline\n",
        "from sqlalchemy import create_engine"
      ],
      "execution_count": 0,
      "outputs": []
    },
    {
      "cell_type": "code",
      "metadata": {
        "id": "WHn67x0qA_N7",
        "colab_type": "code",
        "colab": {}
      },
      "source": [
        "\n",
        "#"
      ],
      "execution_count": 0,
      "outputs": []
    },
    {
      "cell_type": "code",
      "metadata": {
        "id": "bKRXQvqfBqb4",
        "colab_type": "code",
        "colab": {}
      },
      "source": [
        "conn = create_engine('mysql+pymysql://'+username+':'+user_pass+'@'+db_host,echo=True)"
      ],
      "execution_count": 0,
      "outputs": []
    },
    {
      "cell_type": "code",
      "metadata": {
        "id": "imEf0pmuB05C",
        "colab_type": "code",
        "outputId": "c75edd67-58f9-4423-8a2b-9d89fe7aa488",
        "colab": {
          "base_uri": "https://localhost:8080/",
          "height": 35
        }
      },
      "source": [
        "import sqlalchemy\n",
        "sqlalchemy.__version__"
      ],
      "execution_count": 7,
      "outputs": [
        {
          "output_type": "execute_result",
          "data": {
            "text/plain": [
              "'1.3.12'"
            ]
          },
          "metadata": {
            "tags": []
          },
          "execution_count": 7
        }
      ]
    },
    {
      "cell_type": "code",
      "metadata": {
        "id": "a0uUq0UICfhj",
        "colab_type": "code",
        "colab": {
          "base_uri": "https://localhost:8080/",
          "height": 292
        },
        "outputId": "fdee09c4-0b0e-407c-d2f6-bfce657566d6"
      },
      "source": [
        "db= conn.connect()"
      ],
      "execution_count": 8,
      "outputs": [
        {
          "output_type": "stream",
          "text": [
            "2019-12-21 11:20:01,951 INFO sqlalchemy.engine.base.Engine SHOW VARIABLES LIKE 'sql_mode'\n",
            "2019-12-21 11:20:01,952 INFO sqlalchemy.engine.base.Engine {}\n",
            "2019-12-21 11:20:02,175 INFO sqlalchemy.engine.base.Engine SHOW VARIABLES LIKE 'lower_case_table_names'\n",
            "2019-12-21 11:20:02,176 INFO sqlalchemy.engine.base.Engine {}\n",
            "2019-12-21 11:20:02,616 INFO sqlalchemy.engine.base.Engine SELECT DATABASE()\n",
            "2019-12-21 11:20:02,617 INFO sqlalchemy.engine.base.Engine {}\n",
            "2019-12-21 11:20:03,057 INFO sqlalchemy.engine.base.Engine show collation where `Charset` = 'utf8mb4' and `Collation` = 'utf8mb4_bin'\n",
            "2019-12-21 11:20:03,058 INFO sqlalchemy.engine.base.Engine {}\n",
            "2019-12-21 11:20:03,280 INFO sqlalchemy.engine.base.Engine SELECT CAST('test plain returns' AS CHAR(60)) AS anon_1\n",
            "2019-12-21 11:20:03,281 INFO sqlalchemy.engine.base.Engine {}\n",
            "2019-12-21 11:20:03,502 INFO sqlalchemy.engine.base.Engine SELECT CAST('test unicode returns' AS CHAR(60)) AS anon_1\n",
            "2019-12-21 11:20:03,503 INFO sqlalchemy.engine.base.Engine {}\n",
            "2019-12-21 11:20:03,724 INFO sqlalchemy.engine.base.Engine SELECT CAST('test collated returns' AS CHAR CHARACTER SET utf8mb4) COLLATE utf8mb4_bin AS anon_1\n",
            "2019-12-21 11:20:03,725 INFO sqlalchemy.engine.base.Engine {}\n"
          ],
          "name": "stdout"
        }
      ]
    },
    {
      "cell_type": "code",
      "metadata": {
        "id": "fZSFHx35DLlW",
        "colab_type": "code",
        "outputId": "d9ad850d-e658-4a76-c466-5a9140df05a8",
        "colab": {
          "base_uri": "https://localhost:8080/",
          "height": 54
        }
      },
      "source": [
        "from sqlalchemy import inspect\n",
        "inspector = inspect(conn)\n",
        "schemas = inspector.get_schema_names()\n"
      ],
      "execution_count": 9,
      "outputs": [
        {
          "output_type": "stream",
          "text": [
            "2019-12-21 11:20:05,722 INFO sqlalchemy.engine.base.Engine SHOW schemas\n",
            "2019-12-21 11:20:05,723 INFO sqlalchemy.engine.base.Engine {}\n"
          ],
          "name": "stdout"
        }
      ]
    },
    {
      "cell_type": "code",
      "metadata": {
        "id": "FAaQH5g3D_V6",
        "colab_type": "code",
        "outputId": "9bad78e6-d7d9-4af2-ae1c-a6eeffac1a59",
        "colab": {
          "base_uri": "https://localhost:8080/",
          "height": 145
        }
      },
      "source": [
        "for schema in schemas:\n",
        "    print(\"schema: %s\" % schema)\n",
        "    for table_name in inspector.get_table_names(schema=schema):\n",
        "        print(table_name)"
      ],
      "execution_count": 10,
      "outputs": [
        {
          "output_type": "stream",
          "text": [
            "schema: information_schema\n",
            "2019-12-21 11:20:06,285 INFO sqlalchemy.engine.base.Engine SHOW FULL TABLES FROM `information_schema`\n",
            "2019-12-21 11:20:06,287 INFO sqlalchemy.engine.base.Engine {}\n",
            "schema: project_itsm\n",
            "2019-12-21 11:20:06,730 INFO sqlalchemy.engine.base.Engine SHOW FULL TABLES FROM `project_itsm`\n",
            "2019-12-21 11:20:06,732 INFO sqlalchemy.engine.base.Engine {}\n",
            "dataset_list\n"
          ],
          "name": "stdout"
        }
      ]
    },
    {
      "cell_type": "code",
      "metadata": {
        "id": "pEOQ-7sVEBds",
        "colab_type": "code",
        "outputId": "15c6e064-e508-467f-af7a-e625a440f285",
        "colab": {
          "base_uri": "https://localhost:8080/",
          "height": 90
        }
      },
      "source": [
        "data = pd.DataFrame()\n",
        "db.execute('USE project_itsm')\n",
        "data = db.execute('SELECT * FROM dataset_list')"
      ],
      "execution_count": 11,
      "outputs": [
        {
          "output_type": "stream",
          "text": [
            "2019-12-21 11:20:08,170 INFO sqlalchemy.engine.base.Engine USE project_itsm\n",
            "2019-12-21 11:20:08,171 INFO sqlalchemy.engine.base.Engine {}\n",
            "2019-12-21 11:20:08,395 INFO sqlalchemy.engine.base.Engine SELECT * FROM dataset_list\n",
            "2019-12-21 11:20:08,396 INFO sqlalchemy.engine.base.Engine {}\n"
          ],
          "name": "stdout"
        }
      ]
    },
    {
      "cell_type": "code",
      "metadata": {
        "id": "W4sx7FE0IZZc",
        "colab_type": "code",
        "outputId": "db3b7470-5652-4cc7-ab91-227ddb1aba12",
        "colab": {
          "base_uri": "https://localhost:8080/",
          "height": 54
        }
      },
      "source": [
        "data = pd.read_sql_query('SELECT * FROM dataset_list',db)"
      ],
      "execution_count": 12,
      "outputs": [
        {
          "output_type": "stream",
          "text": [
            "2019-12-21 11:20:12,269 INFO sqlalchemy.engine.base.Engine SELECT * FROM dataset_list\n",
            "2019-12-21 11:20:12,272 INFO sqlalchemy.engine.base.Engine {}\n"
          ],
          "name": "stdout"
        }
      ]
    },
    {
      "cell_type": "code",
      "metadata": {
        "id": "sfFZ99EOIbZL",
        "colab_type": "code",
        "outputId": "11c538f4-f26a-42a8-9cf5-c51400abe33c",
        "colab": {
          "base_uri": "https://localhost:8080/",
          "height": 391
        }
      },
      "source": [
        "data.head()"
      ],
      "execution_count": 13,
      "outputs": [
        {
          "output_type": "execute_result",
          "data": {
            "text/html": [
              "<div>\n",
              "<style scoped>\n",
              "    .dataframe tbody tr th:only-of-type {\n",
              "        vertical-align: middle;\n",
              "    }\n",
              "\n",
              "    .dataframe tbody tr th {\n",
              "        vertical-align: top;\n",
              "    }\n",
              "\n",
              "    .dataframe thead th {\n",
              "        text-align: right;\n",
              "    }\n",
              "</style>\n",
              "<table border=\"1\" class=\"dataframe\">\n",
              "  <thead>\n",
              "    <tr style=\"text-align: right;\">\n",
              "      <th></th>\n",
              "      <th>CI_Name</th>\n",
              "      <th>CI_Cat</th>\n",
              "      <th>CI_Subcat</th>\n",
              "      <th>WBS</th>\n",
              "      <th>Incident_ID</th>\n",
              "      <th>Status</th>\n",
              "      <th>Impact</th>\n",
              "      <th>Urgency</th>\n",
              "      <th>Priority</th>\n",
              "      <th>number_cnt</th>\n",
              "      <th>Category</th>\n",
              "      <th>KB_number</th>\n",
              "      <th>Alert_Status</th>\n",
              "      <th>No_of_Reassignments</th>\n",
              "      <th>Open_Time</th>\n",
              "      <th>Reopen_Time</th>\n",
              "      <th>Resolved_Time</th>\n",
              "      <th>Close_Time</th>\n",
              "      <th>Handle_Time_hrs</th>\n",
              "      <th>Closure_Code</th>\n",
              "      <th>No_of_Related_Interactions</th>\n",
              "      <th>Related_Interaction</th>\n",
              "      <th>No_of_Related_Incidents</th>\n",
              "      <th>No_of_Related_Changes</th>\n",
              "      <th>Related_Change</th>\n",
              "    </tr>\n",
              "  </thead>\n",
              "  <tbody>\n",
              "    <tr>\n",
              "      <th>0</th>\n",
              "      <td>SUB000508</td>\n",
              "      <td>subapplication</td>\n",
              "      <td>Web Based Application</td>\n",
              "      <td>WBS000162</td>\n",
              "      <td>IM0000004</td>\n",
              "      <td>Closed</td>\n",
              "      <td>4</td>\n",
              "      <td>4</td>\n",
              "      <td>4</td>\n",
              "      <td>0.601292279</td>\n",
              "      <td>incident</td>\n",
              "      <td>KM0000553</td>\n",
              "      <td>closed</td>\n",
              "      <td>26</td>\n",
              "      <td>05-02-2012 13:32</td>\n",
              "      <td></td>\n",
              "      <td>04-11-2013 13:50</td>\n",
              "      <td>04-11-2013 13:51</td>\n",
              "      <td>3,87,16,91,111</td>\n",
              "      <td>Other</td>\n",
              "      <td>1</td>\n",
              "      <td>SD0000007</td>\n",
              "      <td>2</td>\n",
              "      <td></td>\n",
              "      <td></td>\n",
              "    </tr>\n",
              "    <tr>\n",
              "      <th>1</th>\n",
              "      <td>WBA000124</td>\n",
              "      <td>application</td>\n",
              "      <td>Web Based Application</td>\n",
              "      <td>WBS000088</td>\n",
              "      <td>IM0000005</td>\n",
              "      <td>Closed</td>\n",
              "      <td>3</td>\n",
              "      <td>3</td>\n",
              "      <td>3</td>\n",
              "      <td>0.415049969</td>\n",
              "      <td>incident</td>\n",
              "      <td>KM0000611</td>\n",
              "      <td>closed</td>\n",
              "      <td>33</td>\n",
              "      <td>12-03-2012 15:44</td>\n",
              "      <td>02-12-2013 12:31</td>\n",
              "      <td>02-12-2013 12:36</td>\n",
              "      <td>02-12-2013 12:36</td>\n",
              "      <td>4,35,47,86,389</td>\n",
              "      <td>Software</td>\n",
              "      <td>1</td>\n",
              "      <td>SD0000011</td>\n",
              "      <td>1</td>\n",
              "      <td></td>\n",
              "      <td></td>\n",
              "    </tr>\n",
              "    <tr>\n",
              "      <th>2</th>\n",
              "      <td>DTA000024</td>\n",
              "      <td>application</td>\n",
              "      <td>Desktop Application</td>\n",
              "      <td>WBS000092</td>\n",
              "      <td>IM0000006</td>\n",
              "      <td>Closed</td>\n",
              "      <td>NS</td>\n",
              "      <td>3</td>\n",
              "      <td>NA</td>\n",
              "      <td>0.517551335</td>\n",
              "      <td>request for information</td>\n",
              "      <td>KM0000339</td>\n",
              "      <td>closed</td>\n",
              "      <td>3</td>\n",
              "      <td>29-03-2012 12:36</td>\n",
              "      <td></td>\n",
              "      <td>13-01-2014 15:12</td>\n",
              "      <td>13-01-2014 15:13</td>\n",
              "      <td>4,84,31,19,444</td>\n",
              "      <td>No error - works as designed</td>\n",
              "      <td>1</td>\n",
              "      <td>SD0000017</td>\n",
              "      <td></td>\n",
              "      <td></td>\n",
              "      <td></td>\n",
              "    </tr>\n",
              "    <tr>\n",
              "      <th>3</th>\n",
              "      <td>WBA000124</td>\n",
              "      <td>application</td>\n",
              "      <td>Web Based Application</td>\n",
              "      <td>WBS000088</td>\n",
              "      <td>IM0000011</td>\n",
              "      <td>Closed</td>\n",
              "      <td>4</td>\n",
              "      <td>4</td>\n",
              "      <td>4</td>\n",
              "      <td>0.642927218</td>\n",
              "      <td>incident</td>\n",
              "      <td>KM0000611</td>\n",
              "      <td>closed</td>\n",
              "      <td>13</td>\n",
              "      <td>17-07-2012 11:49</td>\n",
              "      <td></td>\n",
              "      <td>14-11-2013 09:31</td>\n",
              "      <td>14-11-2013 09:31</td>\n",
              "      <td>4,32,18,33,333</td>\n",
              "      <td>Operator error</td>\n",
              "      <td>1</td>\n",
              "      <td>SD0000025</td>\n",
              "      <td></td>\n",
              "      <td></td>\n",
              "      <td></td>\n",
              "    </tr>\n",
              "    <tr>\n",
              "      <th>4</th>\n",
              "      <td>WBA000124</td>\n",
              "      <td>application</td>\n",
              "      <td>Web Based Application</td>\n",
              "      <td>WBS000088</td>\n",
              "      <td>IM0000012</td>\n",
              "      <td>Closed</td>\n",
              "      <td>4</td>\n",
              "      <td>4</td>\n",
              "      <td>4</td>\n",
              "      <td>0.345258343</td>\n",
              "      <td>incident</td>\n",
              "      <td>KM0000611</td>\n",
              "      <td>closed</td>\n",
              "      <td>2</td>\n",
              "      <td>10-08-2012 11:01</td>\n",
              "      <td></td>\n",
              "      <td>08-11-2013 13:55</td>\n",
              "      <td>08-11-2013 13:55</td>\n",
              "      <td>3,38,39,03,333</td>\n",
              "      <td>Other</td>\n",
              "      <td>1</td>\n",
              "      <td>SD0000029</td>\n",
              "      <td></td>\n",
              "      <td></td>\n",
              "      <td></td>\n",
              "    </tr>\n",
              "  </tbody>\n",
              "</table>\n",
              "</div>"
            ],
            "text/plain": [
              "     CI_Name          CI_Cat  ... No_of_Related_Changes Related_Change\n",
              "0  SUB000508  subapplication  ...                                     \n",
              "1  WBA000124     application  ...                                     \n",
              "2  DTA000024     application  ...                                     \n",
              "3  WBA000124     application  ...                                     \n",
              "4  WBA000124     application  ...                                     \n",
              "\n",
              "[5 rows x 25 columns]"
            ]
          },
          "metadata": {
            "tags": []
          },
          "execution_count": 13
        }
      ]
    },
    {
      "cell_type": "code",
      "metadata": {
        "id": "_udE49OyIz_b",
        "colab_type": "code",
        "colab": {}
      },
      "source": [
        "data.to_excel('excel_writer.xls')"
      ],
      "execution_count": 0,
      "outputs": []
    },
    {
      "cell_type": "code",
      "metadata": {
        "id": "mq4R2nq1J0IN",
        "colab_type": "code",
        "colab": {}
      },
      "source": [
        "from google.colab import files\n",
        "files.download('excel_writer.xls') "
      ],
      "execution_count": 0,
      "outputs": []
    },
    {
      "cell_type": "code",
      "metadata": {
        "id": "i-t_gTosMLo6",
        "colab_type": "code",
        "colab": {
          "base_uri": "https://localhost:8080/",
          "height": 35
        },
        "outputId": "026d1661-e24b-4522-9056-435a024298c6"
      },
      "source": [
        ""
      ],
      "execution_count": 17,
      "outputs": [
        {
          "output_type": "stream",
          "text": [
            "excel_writer.xls  \u001b[0m\u001b[01;34msample_data\u001b[0m/\n"
          ],
          "name": "stdout"
        }
      ]
    }
  ]
}